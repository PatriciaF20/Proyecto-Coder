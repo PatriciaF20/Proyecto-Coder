{
 "cells": [
  {
   "cell_type": "markdown",
   "id": "16e8c21a",
   "metadata": {},
   "source": [
    "# Proyecto Final Data Science- CoderHouse"
   ]
  },
  {
   "cell_type": "markdown",
   "id": "dc431d26",
   "metadata": {},
   "source": [
    "**Equipo**\n",
    "\n",
    "* David Alejandro Sanabria\n",
    "* Patricia Mariel Frias\n",
    "* Marco Vinicio Altamirano F\n",
    "\n",
    "**Tutor**\n",
    "* Cristian Velazquez"
   ]
  },
  {
   "cell_type": "markdown",
   "id": "803fbd3f",
   "metadata": {},
   "source": [
    "* INTRODUCCIÓN\n",
    "\n",
    "En este proyecto se trabajará con un Dataset provisto por Kaggle. En el siguiente link puede encontrarse el dataset: \n",
    "https://www.kaggle.com/datasets/olistbr/brazilian-ecommerce\n",
    "\n",
    "El Dataset bajo análisis incluye información de aproximadamente 100 mil órdenes de compra abarcando el período 2016 a 2018 realizadas en múltiples mercados en Brasil. Dicha base contiene los pedidos discriminados por categoría, indicando el precio de los mismos, así como también el costo del transporte. Con ello, es posible calcular el monto de ventas/costos y cantidad de pedidos en forma mensual y anual,y a su vez segregarlos por Ciudad/Estado.\n",
    "\n",
    "El objetivo de este trabajo es poder implementar un algoritmo predictivo de machine learning que permita conocer de manera precisa las ventas mensuales futuras, así como también responder a una serie de preguntas: ¿Las ventas de una determinada categoría de productos tienen un comportamiento predecible? ¿Es posible estimar las pérdidas de determinadas sucursales? ¿Existe estacionalidad en las ventas? ¿Cómo son esos ciclos, si es que hay? Por supuesto que en la medida que se avance en el trabajo podrán surgir nuevos interrogantes.\n",
    "\n",
    "El problema específico radica en la posibilidad de contar con una proyección de ventas que permita tener una estimación de la rentabilidad del negocio y así definir estrategias comerciales para lograr una mejor atención al cliente, mejorar la administración de las sucursales y gestionar eficientes campañas de marketing.\n",
    " "
   ]
  },
  {
   "cell_type": "markdown",
   "id": "c0c378f5",
   "metadata": {},
   "source": [
    "* Diccionario de Variables"
   ]
  },
  {
   "cell_type": "markdown",
   "id": "15855dd9",
   "metadata": {},
   "source": [
    "# **Setup**\n",
    "\n",
    "Las siguientes importaciones están divididas por secciones acordes a su rol en la notebook"
   ]
  },
  {
   "cell_type": "code",
   "execution_count": 2,
   "id": "042a7b9e",
   "metadata": {},
   "outputs": [],
   "source": [
    "# Librerías numéricas, científicas y de ciencia de datos\n",
    "#===========================================================================\n",
    "import sys\n",
    "import pandas as pd # data processing, CSV file I/O (e.g. pd.read_csv)\n",
    "import numpy as np # for operations on dataframes\n",
    "from scipy import stats # for optimization, linear algebra, integration, interpolation\n",
    "import pandas_profiling as pp # exploratory data analysis EDA\n",
    "import datetime # for manupulating time and date columns\n",
    "import warnings\n",
    "warnings.filterwarnings(\"ignore\")# for warning control\n",
    "\n",
    "\n",
    "#Visualización de datos\n",
    "#===========================================================================\n",
    "import matplotlib.pyplot as plt \n",
    "import seaborn as sns \n",
    "import plotly.express as px \n",
    "\n",
    "\n",
    "#Importaciones de Sklearn \n",
    "#===========================================================================\n",
    "\n",
    "#Data Preprocessing\n",
    "from sklearn.cluster import KMeans #for clustering and evaluation\n",
    "from sklearn.preprocessing import StandardScaler # For handling categorical column and scaling numeric columns\n"
   ]
  },
  {
   "cell_type": "markdown",
   "id": "10785dd7",
   "metadata": {},
   "source": [
    "# Toma de datos"
   ]
  },
  {
   "cell_type": "code",
   "execution_count": 3,
   "id": "eb945443",
   "metadata": {},
   "outputs": [],
   "source": [
    "# Cargar los datos sin procesar\n",
    "#===========================================================================\n",
    "df_clientes = pd.read_csv('../Datasets/olist_customers_dataset.csv')\n",
    "df_pedidos = pd.read_csv('../Datasets/olist_orders_dataset.csv')\n",
    "df_productos_en_pedidos = pd.read_csv('../Datasets/olist_order_items_dataset.csv')\n",
    "df_productos = pd.read_csv('../Datasets/olist_products_dataset.csv')\n",
    "df_calificaciones = pd.read_csv('../Datasets/olist_order_reviews_dataset.csv')\n",
    "df_categorias = pd.read_csv(\"../Datasets/product_category_name_translation.csv\")"
   ]
  },
  {
   "cell_type": "code",
   "execution_count": 4,
   "id": "7397d793",
   "metadata": {},
   "outputs": [
    {
     "data": {
      "text/plain": [
       "customer_id                 object\n",
       "customer_unique_id          object\n",
       "customer_zip_code_prefix     int64\n",
       "customer_city               object\n",
       "customer_state              object\n",
       "dtype: object"
      ]
     },
     "execution_count": 4,
     "metadata": {},
     "output_type": "execute_result"
    }
   ],
   "source": [
    "# Exploración de los campos de la tabla y tipos de datos\n",
    "#===========================================================================\n",
    "df_clientes.dtypes"
   ]
  },
  {
   "cell_type": "code",
   "execution_count": 5,
   "id": "a8325832",
   "metadata": {},
   "outputs": [
    {
     "data": {
      "text/plain": [
       "order_id                         object\n",
       "customer_id                      object\n",
       "order_status                     object\n",
       "order_purchase_timestamp         object\n",
       "order_approved_at                object\n",
       "order_delivered_carrier_date     object\n",
       "order_delivered_customer_date    object\n",
       "order_estimated_delivery_date    object\n",
       "dtype: object"
      ]
     },
     "execution_count": 5,
     "metadata": {},
     "output_type": "execute_result"
    }
   ],
   "source": [
    "# Exploración de los campos de la tabla y tipos de datos\n",
    "#===========================================================================\n",
    "df_pedidos.dtypes"
   ]
  },
  {
   "cell_type": "code",
   "execution_count": 6,
   "id": "6c6a5cc2",
   "metadata": {},
   "outputs": [
    {
     "data": {
      "text/plain": [
       "order_id                object\n",
       "order_item_id            int64\n",
       "product_id              object\n",
       "seller_id               object\n",
       "shipping_limit_date     object\n",
       "price                  float64\n",
       "freight_value          float64\n",
       "dtype: object"
      ]
     },
     "execution_count": 6,
     "metadata": {},
     "output_type": "execute_result"
    }
   ],
   "source": [
    "# Exploración de los campos de la tabla y tipos de datos\n",
    "#===========================================================================\n",
    "df_productos_en_pedidos.dtypes"
   ]
  },
  {
   "cell_type": "code",
   "execution_count": 7,
   "id": "1508c9e6",
   "metadata": {},
   "outputs": [
    {
     "data": {
      "text/plain": [
       "product_category_name            object\n",
       "product_category_name_english    object\n",
       "dtype: object"
      ]
     },
     "execution_count": 7,
     "metadata": {},
     "output_type": "execute_result"
    }
   ],
   "source": [
    "# Exploración de los campos de la tabla y tipos de datos\n",
    "#===========================================================================\n",
    "df_categorias.dtypes"
   ]
  },
  {
   "cell_type": "code",
   "execution_count": 8,
   "id": "1c0ad44e",
   "metadata": {},
   "outputs": [
    {
     "data": {
      "text/plain": [
       "product_id                     object\n",
       "product_category_name          object\n",
       "product_name_lenght           float64\n",
       "product_description_lenght    float64\n",
       "product_photos_qty            float64\n",
       "product_weight_g              float64\n",
       "product_length_cm             float64\n",
       "product_height_cm             float64\n",
       "product_width_cm              float64\n",
       "dtype: object"
      ]
     },
     "execution_count": 8,
     "metadata": {},
     "output_type": "execute_result"
    }
   ],
   "source": [
    "# Exploración de los campos de la tabla y tipos de datos\n",
    "#===========================================================================\n",
    "df_productos.dtypes"
   ]
  },
  {
   "cell_type": "code",
   "execution_count": 9,
   "id": "1dec455c",
   "metadata": {},
   "outputs": [
    {
     "data": {
      "text/plain": [
       "review_id                  object\n",
       "order_id                   object\n",
       "review_score                int64\n",
       "review_comment_title       object\n",
       "review_comment_message     object\n",
       "review_creation_date       object\n",
       "review_answer_timestamp    object\n",
       "dtype: object"
      ]
     },
     "execution_count": 9,
     "metadata": {},
     "output_type": "execute_result"
    }
   ],
   "source": [
    "# Exploración de los campos de la tabla y tipos de datos\n",
    "#===========================================================================\n",
    "df_calificaciones.dtypes"
   ]
  },
  {
   "cell_type": "markdown",
   "id": "8d96d510",
   "metadata": {},
   "source": [
    "# Limpieza y preparación de datos\n",
    "\n",
    "**Data Wrangling y EDA**"
   ]
  },
  {
   "cell_type": "code",
   "execution_count": 10,
   "id": "bd6aa542",
   "metadata": {},
   "outputs": [],
   "source": [
    "# Aplicación de Join para agregar a Productos información del pedido\n",
    "#===========================================================================\n",
    "df_productos_comprados = pd.merge(\n",
    "    df_productos_en_pedidos[['order_id','product_id','price','freight_value']],\n",
    "    df_productos[['product_id','product_category_name']], on=['product_id'])\n",
    "df_productos_comprados = df_productos_comprados.merge(df_categorias[['product_category_name']], on=[\"product_category_name\"])"
   ]
  },
  {
   "cell_type": "code",
   "execution_count": 11,
   "id": "2dd52ceb",
   "metadata": {},
   "outputs": [],
   "source": [
    "# Aplicación de Join para agregar la informacón del pedido\n",
    "#===========================================================================\n",
    "df_pedidos_productos = pd.merge(\n",
    "    df_productos_comprados, \n",
    "    df_pedidos[['order_id','customer_id','order_status','order_purchase_timestamp','order_approved_at',\n",
    "                'order_delivered_customer_date','order_estimated_delivery_date']], on=['order_id'])\n"
   ]
  },
  {
   "cell_type": "code",
   "execution_count": 12,
   "id": "0105f0bc",
   "metadata": {},
   "outputs": [],
   "source": [
    "# Aplicación de Join para agregar la información del cliente\n",
    "#===========================================================================\n",
    "df_pedidos_clientes = pd.merge(\n",
    "    df_pedidos_productos,\n",
    "    df_clientes[['customer_id','customer_city','customer_state']],\n",
    "    on=['customer_id'])\n"
   ]
  },
  {
   "cell_type": "code",
   "execution_count": 13,
   "id": "122242e3",
   "metadata": {},
   "outputs": [],
   "source": [
    "# Aplicación de Join para agregar las calificaciones\n",
    "#===========================================================================\n",
    "df_ventas = pd.merge(df_pedidos_clientes,df_calificaciones[['order_id','review_score']], on=['order_id'])"
   ]
  },
  {
   "cell_type": "code",
   "execution_count": 14,
   "id": "2116b267",
   "metadata": {},
   "outputs": [],
   "source": [
    "# Depuración y definición del DtaFrame df_ventas\n",
    "#===========================================================================\n",
    "df_ventas = df_ventas.drop(['product_id','customer_id'], axis=1)\n",
    "df_ventas = df_ventas.rename(columns={'order_id':'Id_Pedidos',\n",
    "                                      'price':'Precio_Producto',  \n",
    "                                      'freight_value':'Precio_Flete',\n",
    "                                      'product_category_name':'Categoria_Producto',\n",
    "                                      'order_status':'Estatus_Pedido',\n",
    "                                      'order_purchase_timestamp':'FH_Pedido',\n",
    "                                      'order_approved_at':'FH_Aprobacion',\n",
    "                                      'order_delivered_customer_date':'FH_Entrega',\n",
    "                                      'order_estimated_delivery_date':'F_Estimada_Entrega',\n",
    "                                      'customer_city':'Ciudad',\n",
    "                                      'customer_state':'Estado',\n",
    "                                      'review_score':'Calificacion'})"
   ]
  },
  {
   "cell_type": "code",
   "execution_count": 15,
   "id": "e8802df1",
   "metadata": {},
   "outputs": [
    {
     "data": {
      "text/plain": [
       "Index(['Id_Pedidos', 'Precio_Producto', 'Precio_Flete', 'Categoria_Producto',\n",
       "       'Estatus_Pedido', 'FH_Pedido', 'FH_Aprobacion', 'FH_Entrega',\n",
       "       'F_Estimada_Entrega', 'Ciudad', 'Estado', 'Calificacion'],\n",
       "      dtype='object')"
      ]
     },
     "execution_count": 15,
     "metadata": {},
     "output_type": "execute_result"
    }
   ],
   "source": [
    "#Variables del dataset\n",
    "#===========================================================================\n",
    "df_ventas.columns"
   ]
  },
  {
   "cell_type": "code",
   "execution_count": 16,
   "id": "2496fc34",
   "metadata": {},
   "outputs": [
    {
     "data": {
      "text/html": [
       "<div>\n",
       "<style scoped>\n",
       "    .dataframe tbody tr th:only-of-type {\n",
       "        vertical-align: middle;\n",
       "    }\n",
       "\n",
       "    .dataframe tbody tr th {\n",
       "        vertical-align: top;\n",
       "    }\n",
       "\n",
       "    .dataframe thead th {\n",
       "        text-align: right;\n",
       "    }\n",
       "</style>\n",
       "<table border=\"1\" class=\"dataframe\">\n",
       "  <thead>\n",
       "    <tr style=\"text-align: right;\">\n",
       "      <th></th>\n",
       "      <th>Id_Pedidos</th>\n",
       "      <th>Precio_Producto</th>\n",
       "      <th>Precio_Flete</th>\n",
       "      <th>Categoria_Producto</th>\n",
       "      <th>Estatus_Pedido</th>\n",
       "      <th>FH_Pedido</th>\n",
       "      <th>FH_Aprobacion</th>\n",
       "      <th>FH_Entrega</th>\n",
       "      <th>F_Estimada_Entrega</th>\n",
       "      <th>Ciudad</th>\n",
       "      <th>Estado</th>\n",
       "      <th>Calificacion</th>\n",
       "    </tr>\n",
       "  </thead>\n",
       "  <tbody>\n",
       "    <tr>\n",
       "      <th>0</th>\n",
       "      <td>00010242fe8c5a6d1ba2dd792cb16214</td>\n",
       "      <td>58.9</td>\n",
       "      <td>13.29</td>\n",
       "      <td>cool_stuff</td>\n",
       "      <td>delivered</td>\n",
       "      <td>2017-09-13 08:59:02</td>\n",
       "      <td>2017-09-13 09:45:35</td>\n",
       "      <td>2017-09-20 23:43:48</td>\n",
       "      <td>2017-09-29 00:00:00</td>\n",
       "      <td>campos dos goytacazes</td>\n",
       "      <td>RJ</td>\n",
       "      <td>5</td>\n",
       "    </tr>\n",
       "    <tr>\n",
       "      <th>1</th>\n",
       "      <td>130898c0987d1801452a8ed92a670612</td>\n",
       "      <td>55.9</td>\n",
       "      <td>17.96</td>\n",
       "      <td>cool_stuff</td>\n",
       "      <td>delivered</td>\n",
       "      <td>2017-06-28 11:52:20</td>\n",
       "      <td>2017-06-29 02:44:11</td>\n",
       "      <td>2017-07-13 20:39:29</td>\n",
       "      <td>2017-07-26 00:00:00</td>\n",
       "      <td>jatai</td>\n",
       "      <td>GO</td>\n",
       "      <td>5</td>\n",
       "    </tr>\n",
       "    <tr>\n",
       "      <th>2</th>\n",
       "      <td>532ed5e14e24ae1f0d735b91524b98b9</td>\n",
       "      <td>64.9</td>\n",
       "      <td>18.33</td>\n",
       "      <td>cool_stuff</td>\n",
       "      <td>delivered</td>\n",
       "      <td>2018-05-18 10:25:53</td>\n",
       "      <td>2018-05-18 12:31:43</td>\n",
       "      <td>2018-06-04 18:34:26</td>\n",
       "      <td>2018-06-07 00:00:00</td>\n",
       "      <td>belo horizonte</td>\n",
       "      <td>MG</td>\n",
       "      <td>4</td>\n",
       "    </tr>\n",
       "    <tr>\n",
       "      <th>3</th>\n",
       "      <td>6f8c31653edb8c83e1a739408b5ff750</td>\n",
       "      <td>58.9</td>\n",
       "      <td>16.17</td>\n",
       "      <td>cool_stuff</td>\n",
       "      <td>delivered</td>\n",
       "      <td>2017-08-01 18:38:42</td>\n",
       "      <td>2017-08-01 18:55:08</td>\n",
       "      <td>2017-08-09 21:26:33</td>\n",
       "      <td>2017-08-25 00:00:00</td>\n",
       "      <td>sao jose dos pinhais</td>\n",
       "      <td>PR</td>\n",
       "      <td>5</td>\n",
       "    </tr>\n",
       "    <tr>\n",
       "      <th>4</th>\n",
       "      <td>7d19f4ef4d04461989632411b7e588b9</td>\n",
       "      <td>58.9</td>\n",
       "      <td>13.29</td>\n",
       "      <td>cool_stuff</td>\n",
       "      <td>delivered</td>\n",
       "      <td>2017-08-10 21:48:40</td>\n",
       "      <td>2017-08-10 22:05:11</td>\n",
       "      <td>2017-08-24 20:04:21</td>\n",
       "      <td>2017-09-01 00:00:00</td>\n",
       "      <td>conselheiro lafaiete</td>\n",
       "      <td>MG</td>\n",
       "      <td>5</td>\n",
       "    </tr>\n",
       "  </tbody>\n",
       "</table>\n",
       "</div>"
      ],
      "text/plain": [
       "                         Id_Pedidos  Precio_Producto  Precio_Flete  \\\n",
       "0  00010242fe8c5a6d1ba2dd792cb16214             58.9         13.29   \n",
       "1  130898c0987d1801452a8ed92a670612             55.9         17.96   \n",
       "2  532ed5e14e24ae1f0d735b91524b98b9             64.9         18.33   \n",
       "3  6f8c31653edb8c83e1a739408b5ff750             58.9         16.17   \n",
       "4  7d19f4ef4d04461989632411b7e588b9             58.9         13.29   \n",
       "\n",
       "  Categoria_Producto Estatus_Pedido            FH_Pedido        FH_Aprobacion  \\\n",
       "0         cool_stuff      delivered  2017-09-13 08:59:02  2017-09-13 09:45:35   \n",
       "1         cool_stuff      delivered  2017-06-28 11:52:20  2017-06-29 02:44:11   \n",
       "2         cool_stuff      delivered  2018-05-18 10:25:53  2018-05-18 12:31:43   \n",
       "3         cool_stuff      delivered  2017-08-01 18:38:42  2017-08-01 18:55:08   \n",
       "4         cool_stuff      delivered  2017-08-10 21:48:40  2017-08-10 22:05:11   \n",
       "\n",
       "            FH_Entrega   F_Estimada_Entrega                 Ciudad Estado  \\\n",
       "0  2017-09-20 23:43:48  2017-09-29 00:00:00  campos dos goytacazes     RJ   \n",
       "1  2017-07-13 20:39:29  2017-07-26 00:00:00                  jatai     GO   \n",
       "2  2018-06-04 18:34:26  2018-06-07 00:00:00         belo horizonte     MG   \n",
       "3  2017-08-09 21:26:33  2017-08-25 00:00:00   sao jose dos pinhais     PR   \n",
       "4  2017-08-24 20:04:21  2017-09-01 00:00:00   conselheiro lafaiete     MG   \n",
       "\n",
       "   Calificacion  \n",
       "0             5  \n",
       "1             5  \n",
       "2             4  \n",
       "3             5  \n",
       "4             5  "
      ]
     },
     "execution_count": 16,
     "metadata": {},
     "output_type": "execute_result"
    }
   ],
   "source": [
    "# Exploración de los primeros 5 registros del dataset\n",
    "#===========================================================================\n",
    "df_ventas.head()"
   ]
  },
  {
   "cell_type": "code",
   "execution_count": 17,
   "id": "adc75715",
   "metadata": {},
   "outputs": [
    {
     "name": "stdout",
     "output_type": "stream",
     "text": [
      "<class 'pandas.core.frame.DataFrame'>\n",
      "Int64Index: 110750 entries, 0 to 110749\n",
      "Data columns (total 12 columns):\n",
      " #   Column              Non-Null Count   Dtype  \n",
      "---  ------              --------------   -----  \n",
      " 0   Id_Pedidos          110750 non-null  object \n",
      " 1   Precio_Producto     110750 non-null  float64\n",
      " 2   Precio_Flete        110750 non-null  float64\n",
      " 3   Categoria_Producto  110750 non-null  object \n",
      " 4   Estatus_Pedido      110750 non-null  object \n",
      " 5   FH_Pedido           110750 non-null  object \n",
      " 6   FH_Aprobacion       110736 non-null  object \n",
      " 7   FH_Entrega          108457 non-null  object \n",
      " 8   F_Estimada_Entrega  110750 non-null  object \n",
      " 9   Ciudad              110750 non-null  object \n",
      " 10  Estado              110750 non-null  object \n",
      " 11  Calificacion        110750 non-null  int64  \n",
      "dtypes: float64(2), int64(1), object(9)\n",
      "memory usage: 11.0+ MB\n"
     ]
    }
   ],
   "source": [
    "#Información del dataset\n",
    "#===========================================================================\n",
    "df_ventas.info()"
   ]
  },
  {
   "cell_type": "code",
   "execution_count": 18,
   "id": "5866a75d",
   "metadata": {},
   "outputs": [],
   "source": [
    "# Conversión del tipo de datos de las variables fecha, de Object a Datetime\n",
    "#===========================================================================\n",
    "df_ventas['FH_Pedido'] = df_ventas['FH_Pedido'].astype('datetime64')\n",
    "df_ventas['FH_Aprobacion'] = df_ventas['FH_Aprobacion'].astype('datetime64')\n",
    "df_ventas['FH_Entrega'] = df_ventas['FH_Entrega'].astype('datetime64',errors='ignore')\n",
    "df_ventas['F_Estimada_Entrega'] = df_ventas['F_Estimada_Entrega'].astype('datetime64',errors='ignore')"
   ]
  },
  {
   "cell_type": "code",
   "execution_count": 19,
   "id": "15e4730a",
   "metadata": {},
   "outputs": [
    {
     "data": {
      "text/plain": [
       "FH_Entrega            2293\n",
       "FH_Aprobacion           14\n",
       "Id_Pedidos               0\n",
       "Precio_Producto          0\n",
       "Precio_Flete             0\n",
       "Categoria_Producto       0\n",
       "Estatus_Pedido           0\n",
       "FH_Pedido                0\n",
       "F_Estimada_Entrega       0\n",
       "Ciudad                   0\n",
       "Estado                   0\n",
       "Calificacion             0\n",
       "dtype: int64"
      ]
     },
     "execution_count": 19,
     "metadata": {},
     "output_type": "execute_result"
    }
   ],
   "source": [
    "# Validando existencia de valores nulos\n",
    "#===========================================================================\n",
    "df_ventas.isnull().sum().sort_values(ascending=False)"
   ]
  },
  {
   "cell_type": "code",
   "execution_count": 20,
   "id": "bff8e975",
   "metadata": {},
   "outputs": [],
   "source": [
    "# Reemplazo de valores nulos\n",
    "#===========================================================================\n",
    "df_ventas['FH_Aprobacion'].fillna(df_ventas['FH_Pedido'], inplace=True)\n",
    "df_ventas['FH_Entrega'].fillna(df_ventas['F_Estimada_Entrega'], inplace=True)"
   ]
  },
  {
   "cell_type": "code",
   "execution_count": 21,
   "id": "33d5c4a0",
   "metadata": {},
   "outputs": [
    {
     "data": {
      "text/plain": [
       "Id_Pedidos            0\n",
       "Precio_Producto       0\n",
       "Precio_Flete          0\n",
       "Categoria_Producto    0\n",
       "Estatus_Pedido        0\n",
       "FH_Pedido             0\n",
       "FH_Aprobacion         0\n",
       "FH_Entrega            0\n",
       "F_Estimada_Entrega    0\n",
       "Ciudad                0\n",
       "Estado                0\n",
       "Calificacion          0\n",
       "dtype: int64"
      ]
     },
     "execution_count": 21,
     "metadata": {},
     "output_type": "execute_result"
    }
   ],
   "source": [
    "# Validando existencia de valores nulos\n",
    "#===========================================================================\n",
    "df_ventas.isnull().sum().sort_values(ascending=False)"
   ]
  },
  {
   "cell_type": "code",
   "execution_count": 22,
   "id": "00e7f986",
   "metadata": {},
   "outputs": [
    {
     "name": "stdout",
     "output_type": "stream",
     "text": [
      "<class 'pandas.core.frame.DataFrame'>\n",
      "Int64Index: 110750 entries, 0 to 110749\n",
      "Data columns (total 12 columns):\n",
      " #   Column              Non-Null Count   Dtype         \n",
      "---  ------              --------------   -----         \n",
      " 0   Id_Pedidos          110750 non-null  object        \n",
      " 1   Precio_Producto     110750 non-null  float64       \n",
      " 2   Precio_Flete        110750 non-null  float64       \n",
      " 3   Categoria_Producto  110750 non-null  object        \n",
      " 4   Estatus_Pedido      110750 non-null  object        \n",
      " 5   FH_Pedido           110750 non-null  datetime64[ns]\n",
      " 6   FH_Aprobacion       110750 non-null  datetime64[ns]\n",
      " 7   FH_Entrega          110750 non-null  datetime64[ns]\n",
      " 8   F_Estimada_Entrega  110750 non-null  datetime64[ns]\n",
      " 9   Ciudad              110750 non-null  object        \n",
      " 10  Estado              110750 non-null  object        \n",
      " 11  Calificacion        110750 non-null  int64         \n",
      "dtypes: datetime64[ns](4), float64(2), int64(1), object(5)\n",
      "memory usage: 11.0+ MB\n"
     ]
    }
   ],
   "source": [
    "#Información del dataset\n",
    "#===========================================================================\n",
    "df_ventas.info()"
   ]
  },
  {
   "cell_type": "code",
   "execution_count": 23,
   "id": "4bfe6002",
   "metadata": {},
   "outputs": [
    {
     "data": {
      "text/plain": [
       "0         False\n",
       "1         False\n",
       "2         False\n",
       "3         False\n",
       "4         False\n",
       "          ...  \n",
       "110745    False\n",
       "110746    False\n",
       "110747    False\n",
       "110748    False\n",
       "110749    False\n",
       "Length: 110750, dtype: bool"
      ]
     },
     "execution_count": 23,
     "metadata": {},
     "output_type": "execute_result"
    }
   ],
   "source": [
    "# Validando existencia de filas duplicadas\n",
    "#===========================================================================\n",
    "df_ventas.duplicated(keep='last')"
   ]
  },
  {
   "cell_type": "code",
   "execution_count": 24,
   "id": "986fec3b",
   "metadata": {},
   "outputs": [
    {
     "data": {
      "text/html": [
       "<div>\n",
       "<style scoped>\n",
       "    .dataframe tbody tr th:only-of-type {\n",
       "        vertical-align: middle;\n",
       "    }\n",
       "\n",
       "    .dataframe tbody tr th {\n",
       "        vertical-align: top;\n",
       "    }\n",
       "\n",
       "    .dataframe thead th {\n",
       "        text-align: right;\n",
       "    }\n",
       "</style>\n",
       "<table border=\"1\" class=\"dataframe\">\n",
       "  <thead>\n",
       "    <tr style=\"text-align: right;\">\n",
       "      <th></th>\n",
       "      <th>Id_Pedidos</th>\n",
       "      <th>Precio_Producto</th>\n",
       "      <th>Precio_Flete</th>\n",
       "      <th>Categoria_Producto</th>\n",
       "      <th>Estatus_Pedido</th>\n",
       "      <th>FH_Pedido</th>\n",
       "      <th>FH_Aprobacion</th>\n",
       "      <th>FH_Entrega</th>\n",
       "      <th>F_Estimada_Entrega</th>\n",
       "      <th>Ciudad</th>\n",
       "      <th>Estado</th>\n",
       "      <th>Calificacion</th>\n",
       "    </tr>\n",
       "  </thead>\n",
       "  <tbody>\n",
       "    <tr>\n",
       "      <th>14</th>\n",
       "      <td>45c780334bc32cb77559a65c5f171160</td>\n",
       "      <td>25.00</td>\n",
       "      <td>23.09</td>\n",
       "      <td>cool_stuff</td>\n",
       "      <td>delivered</td>\n",
       "      <td>2017-12-20 19:20:25</td>\n",
       "      <td>2017-12-22 02:39:37</td>\n",
       "      <td>2018-01-03 14:07:22</td>\n",
       "      <td>2018-01-22</td>\n",
       "      <td>para de minas</td>\n",
       "      <td>MG</td>\n",
       "      <td>1</td>\n",
       "    </tr>\n",
       "    <tr>\n",
       "      <th>15</th>\n",
       "      <td>45c780334bc32cb77559a65c5f171160</td>\n",
       "      <td>25.00</td>\n",
       "      <td>23.09</td>\n",
       "      <td>cool_stuff</td>\n",
       "      <td>delivered</td>\n",
       "      <td>2017-12-20 19:20:25</td>\n",
       "      <td>2017-12-22 02:39:37</td>\n",
       "      <td>2018-01-03 14:07:22</td>\n",
       "      <td>2018-01-22</td>\n",
       "      <td>para de minas</td>\n",
       "      <td>MG</td>\n",
       "      <td>1</td>\n",
       "    </tr>\n",
       "    <tr>\n",
       "      <th>26</th>\n",
       "      <td>dc12f9e8414131e62897902a78e0286e</td>\n",
       "      <td>25.00</td>\n",
       "      <td>17.92</td>\n",
       "      <td>cool_stuff</td>\n",
       "      <td>delivered</td>\n",
       "      <td>2017-12-15 13:41:41</td>\n",
       "      <td>2017-12-15 14:52:47</td>\n",
       "      <td>2017-12-27 19:44:07</td>\n",
       "      <td>2018-01-18</td>\n",
       "      <td>mariana</td>\n",
       "      <td>MG</td>\n",
       "      <td>3</td>\n",
       "    </tr>\n",
       "    <tr>\n",
       "      <th>27</th>\n",
       "      <td>dc12f9e8414131e62897902a78e0286e</td>\n",
       "      <td>25.00</td>\n",
       "      <td>17.92</td>\n",
       "      <td>cool_stuff</td>\n",
       "      <td>delivered</td>\n",
       "      <td>2017-12-15 13:41:41</td>\n",
       "      <td>2017-12-15 14:52:47</td>\n",
       "      <td>2017-12-27 19:44:07</td>\n",
       "      <td>2018-01-18</td>\n",
       "      <td>mariana</td>\n",
       "      <td>MG</td>\n",
       "      <td>3</td>\n",
       "    </tr>\n",
       "    <tr>\n",
       "      <th>540</th>\n",
       "      <td>ce338e075a36068051ecff6802ab64ef</td>\n",
       "      <td>89.99</td>\n",
       "      <td>8.98</td>\n",
       "      <td>cool_stuff</td>\n",
       "      <td>delivered</td>\n",
       "      <td>2018-05-09 11:31:26</td>\n",
       "      <td>2018-05-09 11:51:17</td>\n",
       "      <td>2018-05-11 19:02:19</td>\n",
       "      <td>2018-05-18</td>\n",
       "      <td>osasco</td>\n",
       "      <td>SP</td>\n",
       "      <td>5</td>\n",
       "    </tr>\n",
       "    <tr>\n",
       "      <th>...</th>\n",
       "      <td>...</td>\n",
       "      <td>...</td>\n",
       "      <td>...</td>\n",
       "      <td>...</td>\n",
       "      <td>...</td>\n",
       "      <td>...</td>\n",
       "      <td>...</td>\n",
       "      <td>...</td>\n",
       "      <td>...</td>\n",
       "      <td>...</td>\n",
       "      <td>...</td>\n",
       "      <td>...</td>\n",
       "    </tr>\n",
       "    <tr>\n",
       "      <th>110710</th>\n",
       "      <td>9b951f6f81b73f9ee291b9735e6fe993</td>\n",
       "      <td>39.90</td>\n",
       "      <td>25.63</td>\n",
       "      <td>fashion_esporte</td>\n",
       "      <td>delivered</td>\n",
       "      <td>2017-09-28 17:34:38</td>\n",
       "      <td>2017-09-29 02:14:28</td>\n",
       "      <td>2017-10-20 18:02:46</td>\n",
       "      <td>2017-11-03</td>\n",
       "      <td>parauapebas</td>\n",
       "      <td>PA</td>\n",
       "      <td>4</td>\n",
       "    </tr>\n",
       "    <tr>\n",
       "      <th>110711</th>\n",
       "      <td>9b951f6f81b73f9ee291b9735e6fe993</td>\n",
       "      <td>39.90</td>\n",
       "      <td>25.63</td>\n",
       "      <td>fashion_esporte</td>\n",
       "      <td>delivered</td>\n",
       "      <td>2017-09-28 17:34:38</td>\n",
       "      <td>2017-09-29 02:14:28</td>\n",
       "      <td>2017-10-20 18:02:46</td>\n",
       "      <td>2017-11-03</td>\n",
       "      <td>parauapebas</td>\n",
       "      <td>PA</td>\n",
       "      <td>4</td>\n",
       "    </tr>\n",
       "    <tr>\n",
       "      <th>110712</th>\n",
       "      <td>9b951f6f81b73f9ee291b9735e6fe993</td>\n",
       "      <td>39.90</td>\n",
       "      <td>25.63</td>\n",
       "      <td>fashion_esporte</td>\n",
       "      <td>delivered</td>\n",
       "      <td>2017-09-28 17:34:38</td>\n",
       "      <td>2017-09-29 02:14:28</td>\n",
       "      <td>2017-10-20 18:02:46</td>\n",
       "      <td>2017-11-03</td>\n",
       "      <td>parauapebas</td>\n",
       "      <td>PA</td>\n",
       "      <td>4</td>\n",
       "    </tr>\n",
       "    <tr>\n",
       "      <th>110732</th>\n",
       "      <td>3821dc9ac1b25bed42324d0885b0a930</td>\n",
       "      <td>140.00</td>\n",
       "      <td>27.06</td>\n",
       "      <td>la_cuisine</td>\n",
       "      <td>delivered</td>\n",
       "      <td>2018-04-17 21:01:58</td>\n",
       "      <td>2018-04-17 21:15:10</td>\n",
       "      <td>2018-04-23 18:01:57</td>\n",
       "      <td>2018-05-09</td>\n",
       "      <td>sao paulo</td>\n",
       "      <td>SP</td>\n",
       "      <td>1</td>\n",
       "    </tr>\n",
       "    <tr>\n",
       "      <th>110733</th>\n",
       "      <td>3821dc9ac1b25bed42324d0885b0a930</td>\n",
       "      <td>140.00</td>\n",
       "      <td>27.06</td>\n",
       "      <td>la_cuisine</td>\n",
       "      <td>delivered</td>\n",
       "      <td>2018-04-17 21:01:58</td>\n",
       "      <td>2018-04-17 21:15:10</td>\n",
       "      <td>2018-04-23 18:01:57</td>\n",
       "      <td>2018-05-09</td>\n",
       "      <td>sao paulo</td>\n",
       "      <td>SP</td>\n",
       "      <td>1</td>\n",
       "    </tr>\n",
       "  </tbody>\n",
       "</table>\n",
       "<p>19089 rows × 12 columns</p>\n",
       "</div>"
      ],
      "text/plain": [
       "                              Id_Pedidos  Precio_Producto  Precio_Flete  \\\n",
       "14      45c780334bc32cb77559a65c5f171160            25.00         23.09   \n",
       "15      45c780334bc32cb77559a65c5f171160            25.00         23.09   \n",
       "26      dc12f9e8414131e62897902a78e0286e            25.00         17.92   \n",
       "27      dc12f9e8414131e62897902a78e0286e            25.00         17.92   \n",
       "540     ce338e075a36068051ecff6802ab64ef            89.99          8.98   \n",
       "...                                  ...              ...           ...   \n",
       "110710  9b951f6f81b73f9ee291b9735e6fe993            39.90         25.63   \n",
       "110711  9b951f6f81b73f9ee291b9735e6fe993            39.90         25.63   \n",
       "110712  9b951f6f81b73f9ee291b9735e6fe993            39.90         25.63   \n",
       "110732  3821dc9ac1b25bed42324d0885b0a930           140.00         27.06   \n",
       "110733  3821dc9ac1b25bed42324d0885b0a930           140.00         27.06   \n",
       "\n",
       "       Categoria_Producto Estatus_Pedido           FH_Pedido  \\\n",
       "14             cool_stuff      delivered 2017-12-20 19:20:25   \n",
       "15             cool_stuff      delivered 2017-12-20 19:20:25   \n",
       "26             cool_stuff      delivered 2017-12-15 13:41:41   \n",
       "27             cool_stuff      delivered 2017-12-15 13:41:41   \n",
       "540            cool_stuff      delivered 2018-05-09 11:31:26   \n",
       "...                   ...            ...                 ...   \n",
       "110710    fashion_esporte      delivered 2017-09-28 17:34:38   \n",
       "110711    fashion_esporte      delivered 2017-09-28 17:34:38   \n",
       "110712    fashion_esporte      delivered 2017-09-28 17:34:38   \n",
       "110732         la_cuisine      delivered 2018-04-17 21:01:58   \n",
       "110733         la_cuisine      delivered 2018-04-17 21:01:58   \n",
       "\n",
       "             FH_Aprobacion          FH_Entrega F_Estimada_Entrega  \\\n",
       "14     2017-12-22 02:39:37 2018-01-03 14:07:22         2018-01-22   \n",
       "15     2017-12-22 02:39:37 2018-01-03 14:07:22         2018-01-22   \n",
       "26     2017-12-15 14:52:47 2017-12-27 19:44:07         2018-01-18   \n",
       "27     2017-12-15 14:52:47 2017-12-27 19:44:07         2018-01-18   \n",
       "540    2018-05-09 11:51:17 2018-05-11 19:02:19         2018-05-18   \n",
       "...                    ...                 ...                ...   \n",
       "110710 2017-09-29 02:14:28 2017-10-20 18:02:46         2017-11-03   \n",
       "110711 2017-09-29 02:14:28 2017-10-20 18:02:46         2017-11-03   \n",
       "110712 2017-09-29 02:14:28 2017-10-20 18:02:46         2017-11-03   \n",
       "110732 2018-04-17 21:15:10 2018-04-23 18:01:57         2018-05-09   \n",
       "110733 2018-04-17 21:15:10 2018-04-23 18:01:57         2018-05-09   \n",
       "\n",
       "               Ciudad Estado  Calificacion  \n",
       "14      para de minas     MG             1  \n",
       "15      para de minas     MG             1  \n",
       "26            mariana     MG             3  \n",
       "27            mariana     MG             3  \n",
       "540            osasco     SP             5  \n",
       "...               ...    ...           ...  \n",
       "110710    parauapebas     PA             4  \n",
       "110711    parauapebas     PA             4  \n",
       "110712    parauapebas     PA             4  \n",
       "110732      sao paulo     SP             1  \n",
       "110733      sao paulo     SP             1  \n",
       "\n",
       "[19089 rows x 12 columns]"
      ]
     },
     "execution_count": 24,
     "metadata": {},
     "output_type": "execute_result"
    }
   ],
   "source": [
    "# Detección de filas duplicadas\n",
    "#===========================================================================\n",
    "duplicated_values= df_ventas[df_ventas.duplicated(keep=False)]\n",
    "duplicated_values"
   ]
  },
  {
   "cell_type": "code",
   "execution_count": 25,
   "id": "f83b940f",
   "metadata": {},
   "outputs": [
    {
     "data": {
      "text/html": [
       "<div>\n",
       "<style scoped>\n",
       "    .dataframe tbody tr th:only-of-type {\n",
       "        vertical-align: middle;\n",
       "    }\n",
       "\n",
       "    .dataframe tbody tr th {\n",
       "        vertical-align: top;\n",
       "    }\n",
       "\n",
       "    .dataframe thead th {\n",
       "        text-align: right;\n",
       "    }\n",
       "</style>\n",
       "<table border=\"1\" class=\"dataframe\">\n",
       "  <thead>\n",
       "    <tr style=\"text-align: right;\">\n",
       "      <th></th>\n",
       "      <th>Id_Pedidos</th>\n",
       "      <th>Precio_Producto</th>\n",
       "      <th>Precio_Flete</th>\n",
       "      <th>Categoria_Producto</th>\n",
       "      <th>Estatus_Pedido</th>\n",
       "      <th>FH_Pedido</th>\n",
       "      <th>FH_Aprobacion</th>\n",
       "      <th>FH_Entrega</th>\n",
       "      <th>F_Estimada_Entrega</th>\n",
       "      <th>Ciudad</th>\n",
       "      <th>Estado</th>\n",
       "      <th>Calificacion</th>\n",
       "    </tr>\n",
       "  </thead>\n",
       "  <tbody>\n",
       "    <tr>\n",
       "      <th>0</th>\n",
       "      <td>00010242fe8c5a6d1ba2dd792cb16214</td>\n",
       "      <td>58.90</td>\n",
       "      <td>13.29</td>\n",
       "      <td>cool_stuff</td>\n",
       "      <td>delivered</td>\n",
       "      <td>2017-09-13 08:59:02</td>\n",
       "      <td>2017-09-13 09:45:35</td>\n",
       "      <td>2017-09-20 23:43:48</td>\n",
       "      <td>2017-09-29</td>\n",
       "      <td>campos dos goytacazes</td>\n",
       "      <td>RJ</td>\n",
       "      <td>5</td>\n",
       "    </tr>\n",
       "    <tr>\n",
       "      <th>1</th>\n",
       "      <td>130898c0987d1801452a8ed92a670612</td>\n",
       "      <td>55.90</td>\n",
       "      <td>17.96</td>\n",
       "      <td>cool_stuff</td>\n",
       "      <td>delivered</td>\n",
       "      <td>2017-06-28 11:52:20</td>\n",
       "      <td>2017-06-29 02:44:11</td>\n",
       "      <td>2017-07-13 20:39:29</td>\n",
       "      <td>2017-07-26</td>\n",
       "      <td>jatai</td>\n",
       "      <td>GO</td>\n",
       "      <td>5</td>\n",
       "    </tr>\n",
       "    <tr>\n",
       "      <th>2</th>\n",
       "      <td>532ed5e14e24ae1f0d735b91524b98b9</td>\n",
       "      <td>64.90</td>\n",
       "      <td>18.33</td>\n",
       "      <td>cool_stuff</td>\n",
       "      <td>delivered</td>\n",
       "      <td>2018-05-18 10:25:53</td>\n",
       "      <td>2018-05-18 12:31:43</td>\n",
       "      <td>2018-06-04 18:34:26</td>\n",
       "      <td>2018-06-07</td>\n",
       "      <td>belo horizonte</td>\n",
       "      <td>MG</td>\n",
       "      <td>4</td>\n",
       "    </tr>\n",
       "    <tr>\n",
       "      <th>3</th>\n",
       "      <td>6f8c31653edb8c83e1a739408b5ff750</td>\n",
       "      <td>58.90</td>\n",
       "      <td>16.17</td>\n",
       "      <td>cool_stuff</td>\n",
       "      <td>delivered</td>\n",
       "      <td>2017-08-01 18:38:42</td>\n",
       "      <td>2017-08-01 18:55:08</td>\n",
       "      <td>2017-08-09 21:26:33</td>\n",
       "      <td>2017-08-25</td>\n",
       "      <td>sao jose dos pinhais</td>\n",
       "      <td>PR</td>\n",
       "      <td>5</td>\n",
       "    </tr>\n",
       "    <tr>\n",
       "      <th>4</th>\n",
       "      <td>7d19f4ef4d04461989632411b7e588b9</td>\n",
       "      <td>58.90</td>\n",
       "      <td>13.29</td>\n",
       "      <td>cool_stuff</td>\n",
       "      <td>delivered</td>\n",
       "      <td>2017-08-10 21:48:40</td>\n",
       "      <td>2017-08-10 22:05:11</td>\n",
       "      <td>2017-08-24 20:04:21</td>\n",
       "      <td>2017-09-01</td>\n",
       "      <td>conselheiro lafaiete</td>\n",
       "      <td>MG</td>\n",
       "      <td>5</td>\n",
       "    </tr>\n",
       "    <tr>\n",
       "      <th>...</th>\n",
       "      <td>...</td>\n",
       "      <td>...</td>\n",
       "      <td>...</td>\n",
       "      <td>...</td>\n",
       "      <td>...</td>\n",
       "      <td>...</td>\n",
       "      <td>...</td>\n",
       "      <td>...</td>\n",
       "      <td>...</td>\n",
       "      <td>...</td>\n",
       "      <td>...</td>\n",
       "      <td>...</td>\n",
       "    </tr>\n",
       "    <tr>\n",
       "      <th>99579</th>\n",
       "      <td>3da4b0f0c89bb8fee8a810459e641414</td>\n",
       "      <td>110.00</td>\n",
       "      <td>8.96</td>\n",
       "      <td>fashion_roupa_infanto_juvenil</td>\n",
       "      <td>delivered</td>\n",
       "      <td>2017-06-08 16:46:33</td>\n",
       "      <td>2017-06-08 18:20:19</td>\n",
       "      <td>2017-06-13 13:23:01</td>\n",
       "      <td>2017-06-23</td>\n",
       "      <td>sao paulo</td>\n",
       "      <td>SP</td>\n",
       "      <td>5</td>\n",
       "    </tr>\n",
       "    <tr>\n",
       "      <th>99580</th>\n",
       "      <td>9fa3a005f89a187501fa1bd63d6125fb</td>\n",
       "      <td>39.99</td>\n",
       "      <td>14.10</td>\n",
       "      <td>fashion_roupa_infanto_juvenil</td>\n",
       "      <td>delivered</td>\n",
       "      <td>2017-10-08 23:51:49</td>\n",
       "      <td>2017-10-09 00:17:50</td>\n",
       "      <td>2017-10-16 21:59:33</td>\n",
       "      <td>2017-11-08</td>\n",
       "      <td>sao paulo</td>\n",
       "      <td>SP</td>\n",
       "      <td>5</td>\n",
       "    </tr>\n",
       "    <tr>\n",
       "      <th>99581</th>\n",
       "      <td>cab08f0417a702d0f4782ec02356a4ac</td>\n",
       "      <td>89.99</td>\n",
       "      <td>17.07</td>\n",
       "      <td>fashion_roupa_infanto_juvenil</td>\n",
       "      <td>delivered</td>\n",
       "      <td>2017-09-30 18:54:53</td>\n",
       "      <td>2017-10-03 04:28:12</td>\n",
       "      <td>2017-10-30 12:37:42</td>\n",
       "      <td>2017-11-01</td>\n",
       "      <td>macaubas</td>\n",
       "      <td>BA</td>\n",
       "      <td>5</td>\n",
       "    </tr>\n",
       "    <tr>\n",
       "      <th>99582</th>\n",
       "      <td>cb53f0b6e8f9082a9f5a113765dd1236</td>\n",
       "      <td>89.99</td>\n",
       "      <td>7.49</td>\n",
       "      <td>fashion_roupa_infanto_juvenil</td>\n",
       "      <td>delivered</td>\n",
       "      <td>2018-06-03 22:34:58</td>\n",
       "      <td>2018-06-03 22:50:09</td>\n",
       "      <td>2018-06-05 21:52:02</td>\n",
       "      <td>2018-06-28</td>\n",
       "      <td>sao paulo</td>\n",
       "      <td>SP</td>\n",
       "      <td>5</td>\n",
       "    </tr>\n",
       "    <tr>\n",
       "      <th>99583</th>\n",
       "      <td>ee86b68eb9222b0cad7da50f4f758a35</td>\n",
       "      <td>110.00</td>\n",
       "      <td>14.52</td>\n",
       "      <td>fashion_roupa_infanto_juvenil</td>\n",
       "      <td>delivered</td>\n",
       "      <td>2017-05-17 17:44:34</td>\n",
       "      <td>2017-05-17 17:55:12</td>\n",
       "      <td>2017-05-20 08:44:01</td>\n",
       "      <td>2017-06-09</td>\n",
       "      <td>nova iguacu</td>\n",
       "      <td>RJ</td>\n",
       "      <td>5</td>\n",
       "    </tr>\n",
       "  </tbody>\n",
       "</table>\n",
       "<p>99584 rows × 12 columns</p>\n",
       "</div>"
      ],
      "text/plain": [
       "                             Id_Pedidos  Precio_Producto  Precio_Flete  \\\n",
       "0      00010242fe8c5a6d1ba2dd792cb16214            58.90         13.29   \n",
       "1      130898c0987d1801452a8ed92a670612            55.90         17.96   \n",
       "2      532ed5e14e24ae1f0d735b91524b98b9            64.90         18.33   \n",
       "3      6f8c31653edb8c83e1a739408b5ff750            58.90         16.17   \n",
       "4      7d19f4ef4d04461989632411b7e588b9            58.90         13.29   \n",
       "...                                 ...              ...           ...   \n",
       "99579  3da4b0f0c89bb8fee8a810459e641414           110.00          8.96   \n",
       "99580  9fa3a005f89a187501fa1bd63d6125fb            39.99         14.10   \n",
       "99581  cab08f0417a702d0f4782ec02356a4ac            89.99         17.07   \n",
       "99582  cb53f0b6e8f9082a9f5a113765dd1236            89.99          7.49   \n",
       "99583  ee86b68eb9222b0cad7da50f4f758a35           110.00         14.52   \n",
       "\n",
       "                  Categoria_Producto Estatus_Pedido           FH_Pedido  \\\n",
       "0                         cool_stuff      delivered 2017-09-13 08:59:02   \n",
       "1                         cool_stuff      delivered 2017-06-28 11:52:20   \n",
       "2                         cool_stuff      delivered 2018-05-18 10:25:53   \n",
       "3                         cool_stuff      delivered 2017-08-01 18:38:42   \n",
       "4                         cool_stuff      delivered 2017-08-10 21:48:40   \n",
       "...                              ...            ...                 ...   \n",
       "99579  fashion_roupa_infanto_juvenil      delivered 2017-06-08 16:46:33   \n",
       "99580  fashion_roupa_infanto_juvenil      delivered 2017-10-08 23:51:49   \n",
       "99581  fashion_roupa_infanto_juvenil      delivered 2017-09-30 18:54:53   \n",
       "99582  fashion_roupa_infanto_juvenil      delivered 2018-06-03 22:34:58   \n",
       "99583  fashion_roupa_infanto_juvenil      delivered 2017-05-17 17:44:34   \n",
       "\n",
       "            FH_Aprobacion          FH_Entrega F_Estimada_Entrega  \\\n",
       "0     2017-09-13 09:45:35 2017-09-20 23:43:48         2017-09-29   \n",
       "1     2017-06-29 02:44:11 2017-07-13 20:39:29         2017-07-26   \n",
       "2     2018-05-18 12:31:43 2018-06-04 18:34:26         2018-06-07   \n",
       "3     2017-08-01 18:55:08 2017-08-09 21:26:33         2017-08-25   \n",
       "4     2017-08-10 22:05:11 2017-08-24 20:04:21         2017-09-01   \n",
       "...                   ...                 ...                ...   \n",
       "99579 2017-06-08 18:20:19 2017-06-13 13:23:01         2017-06-23   \n",
       "99580 2017-10-09 00:17:50 2017-10-16 21:59:33         2017-11-08   \n",
       "99581 2017-10-03 04:28:12 2017-10-30 12:37:42         2017-11-01   \n",
       "99582 2018-06-03 22:50:09 2018-06-05 21:52:02         2018-06-28   \n",
       "99583 2017-05-17 17:55:12 2017-05-20 08:44:01         2017-06-09   \n",
       "\n",
       "                      Ciudad Estado  Calificacion  \n",
       "0      campos dos goytacazes     RJ             5  \n",
       "1                      jatai     GO             5  \n",
       "2             belo horizonte     MG             4  \n",
       "3       sao jose dos pinhais     PR             5  \n",
       "4       conselheiro lafaiete     MG             5  \n",
       "...                      ...    ...           ...  \n",
       "99579              sao paulo     SP             5  \n",
       "99580              sao paulo     SP             5  \n",
       "99581               macaubas     BA             5  \n",
       "99582              sao paulo     SP             5  \n",
       "99583            nova iguacu     RJ             5  \n",
       "\n",
       "[99584 rows x 12 columns]"
      ]
     },
     "execution_count": 25,
     "metadata": {},
     "output_type": "execute_result"
    }
   ],
   "source": [
    "# Creación de un nuevo dataframe sin filas duplicadas y restablecimiento de índices\n",
    "#===========================================================================\n",
    "df_ventas2=df_ventas.drop_duplicates()\n",
    "df_ventas2.reset_index(drop=True, inplace=True)\n",
    "df_ventas2"
   ]
  },
  {
   "cell_type": "code",
   "execution_count": 26,
   "id": "4df2f4bb",
   "metadata": {},
   "outputs": [
    {
     "data": {
      "text/html": [
       "<div>\n",
       "<style scoped>\n",
       "    .dataframe tbody tr th:only-of-type {\n",
       "        vertical-align: middle;\n",
       "    }\n",
       "\n",
       "    .dataframe tbody tr th {\n",
       "        vertical-align: top;\n",
       "    }\n",
       "\n",
       "    .dataframe thead th {\n",
       "        text-align: right;\n",
       "    }\n",
       "</style>\n",
       "<table border=\"1\" class=\"dataframe\">\n",
       "  <thead>\n",
       "    <tr style=\"text-align: right;\">\n",
       "      <th></th>\n",
       "      <th>Precio_Producto</th>\n",
       "      <th>Precio_Flete</th>\n",
       "      <th>Calificacion</th>\n",
       "    </tr>\n",
       "  </thead>\n",
       "  <tbody>\n",
       "    <tr>\n",
       "      <th>count</th>\n",
       "      <td>99584.000000</td>\n",
       "      <td>99584.000000</td>\n",
       "      <td>99584.000000</td>\n",
       "    </tr>\n",
       "    <tr>\n",
       "      <th>mean</th>\n",
       "      <td>124.744862</td>\n",
       "      <td>20.167933</td>\n",
       "      <td>4.081569</td>\n",
       "    </tr>\n",
       "    <tr>\n",
       "      <th>std</th>\n",
       "      <td>187.671684</td>\n",
       "      <td>15.918764</td>\n",
       "      <td>1.348826</td>\n",
       "    </tr>\n",
       "    <tr>\n",
       "      <th>min</th>\n",
       "      <td>0.850000</td>\n",
       "      <td>0.000000</td>\n",
       "      <td>1.000000</td>\n",
       "    </tr>\n",
       "    <tr>\n",
       "      <th>25%</th>\n",
       "      <td>40.990000</td>\n",
       "      <td>13.180000</td>\n",
       "      <td>4.000000</td>\n",
       "    </tr>\n",
       "    <tr>\n",
       "      <th>50%</th>\n",
       "      <td>79.000000</td>\n",
       "      <td>16.360000</td>\n",
       "      <td>5.000000</td>\n",
       "    </tr>\n",
       "    <tr>\n",
       "      <th>75%</th>\n",
       "      <td>139.200000</td>\n",
       "      <td>21.300000</td>\n",
       "      <td>5.000000</td>\n",
       "    </tr>\n",
       "    <tr>\n",
       "      <th>max</th>\n",
       "      <td>6735.000000</td>\n",
       "      <td>409.680000</td>\n",
       "      <td>5.000000</td>\n",
       "    </tr>\n",
       "  </tbody>\n",
       "</table>\n",
       "</div>"
      ],
      "text/plain": [
       "       Precio_Producto  Precio_Flete  Calificacion\n",
       "count     99584.000000  99584.000000  99584.000000\n",
       "mean        124.744862     20.167933      4.081569\n",
       "std         187.671684     15.918764      1.348826\n",
       "min           0.850000      0.000000      1.000000\n",
       "25%          40.990000     13.180000      4.000000\n",
       "50%          79.000000     16.360000      5.000000\n",
       "75%         139.200000     21.300000      5.000000\n",
       "max        6735.000000    409.680000      5.000000"
      ]
     },
     "execution_count": 26,
     "metadata": {},
     "output_type": "execute_result"
    }
   ],
   "source": [
    "#Resumen rápido de las estadísticas de datos\n",
    "#===========================================================================\n",
    "df_ventas2.describe()"
   ]
  },
  {
   "cell_type": "code",
   "execution_count": 32,
   "id": "4df84e2e",
   "metadata": {},
   "outputs": [],
   "source": [
    "#Resumen del dataset\n",
    "#===========================================================================\n",
    "profile = pp.ProfileReport(df_ventas2)\n",
    "\n",
    "profile\n"
   ]
  },
  {
   "cell_type": "code",
   "execution_count": null,
   "id": "889cd2a5",
   "metadata": {},
   "outputs": [],
   "source": [
    "#Identificación de posibles estados del pedido\n",
    "#===========================================================================\n",
    "df_ventas2[\"Estatus_Pedido\"].value_counts()"
   ]
  },
  {
   "cell_type": "code",
   "execution_count": null,
   "id": "fbba823b",
   "metadata": {},
   "outputs": [],
   "source": [
    "# Identificación del total de órdenes de compra no concretadas\n",
    "#===========================================================================\n",
    "ordenes_no_entregadas = df_ventas2[df_ventas2[\"Estatus_Pedido\"] != 'delivered']\n",
    "ordenes_no_entregadas [\"Estatus_Pedido\"].value_counts().sum()"
   ]
  },
  {
   "cell_type": "code",
   "execution_count": null,
   "id": "86888c77",
   "metadata": {},
   "outputs": [],
   "source": [
    "# Creación de Dataframe que sólo incluye pedidos entregados\n",
    "#===========================================================================\n",
    "Ventas= df_ventas2[df_ventas2['Estatus_Pedido'] =='delivered']\n",
    "Ventas"
   ]
  },
  {
   "cell_type": "markdown",
   "id": "e7b959ef",
   "metadata": {},
   "source": [
    "# Análisis de datos"
   ]
  },
  {
   "cell_type": "markdown",
   "id": "34368436",
   "metadata": {},
   "source": [
    "**Análisis Univariado**"
   ]
  },
  {
   "cell_type": "code",
   "execution_count": null,
   "id": "3978b61a",
   "metadata": {
    "scrolled": false
   },
   "outputs": [],
   "source": [
    "# Analizar el volumen de cada estado de pedido.\n",
    "\n",
    "orderc = df_ventas2['Estatus_Pedido'].value_counts(ascending=False)\n",
    "\n",
    "plt.figure(figsize=(10,5))\n",
    "\n",
    "palette = sns.color_palette('Greens_d', len(orderc))\n",
    "ax = sns.barplot(orderc.index, orderc.values, alpha=0.8 , palette=np.array(palette[::-1]))\n",
    "\n",
    "plt.title('Recuento de estado de pedidos', fontsize=16)\n",
    "plt.ylabel('Cantidad', fontsize=12)\n",
    "plt.xlabel('Estado_Pedido', fontsize=12)\n",
    "plt.ylim(0,120000) \n",
    "ax.bar_label(ax.containers[0])\n",
    "\n",
    "plt.show()"
   ]
  },
  {
   "cell_type": "markdown",
   "id": "81e6ec9e",
   "metadata": {},
   "source": [
    "**OBSERVACIÓN**: En función de lo observado en la gráfica y para nuestro posterior análisis, se considerarán como ventas concretadas solamente aquellas órdenes de compra efectivamente entregadas al cliente."
   ]
  },
  {
   "cell_type": "markdown",
   "id": "6104fde0",
   "metadata": {},
   "source": [
    "**Análisis Bivariado**"
   ]
  },
  {
   "cell_type": "code",
   "execution_count": null,
   "id": "5464f556",
   "metadata": {},
   "outputs": [],
   "source": []
  },
  {
   "cell_type": "markdown",
   "id": "84af2e91",
   "metadata": {},
   "source": [
    "**Análisis Multivariado**"
   ]
  },
  {
   "cell_type": "code",
   "execution_count": null,
   "id": "2e658bd3",
   "metadata": {},
   "outputs": [],
   "source": [
    "sns.pairplot(df_ventas2, corner=True)"
   ]
  },
  {
   "cell_type": "code",
   "execution_count": null,
   "id": "8cf22fcf",
   "metadata": {},
   "outputs": [],
   "source": [
    "plt.figure(figsize=(20,20))\n",
    "\n",
    "sns.heatmap(df_ventas2.corr(), annot=True, vmin=-1, vmax=1, cmap=\"bwr_r\", linewidths=.4)\n",
    "\n",
    "plt.show()\n"
   ]
  }
 ],
 "metadata": {
  "kernelspec": {
   "display_name": "Python 3 (ipykernel)",
   "language": "python",
   "name": "python3"
  },
  "language_info": {
   "codemirror_mode": {
    "name": "ipython",
    "version": 3
   },
   "file_extension": ".py",
   "mimetype": "text/x-python",
   "name": "python",
   "nbconvert_exporter": "python",
   "pygments_lexer": "ipython3",
   "version": "3.9.7"
  }
 },
 "nbformat": 4,
 "nbformat_minor": 5
}
